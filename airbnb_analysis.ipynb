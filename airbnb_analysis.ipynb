{
 "cells": [
  {
   "cell_type": "markdown",
   "id": "41a2adbc-f2fc-4f94-a281-ee0dd989d8b1",
   "metadata": {},
   "source": [
    "# Airbnb Listings Project"
   ]
  },
  {
   "cell_type": "markdown",
   "id": "e7e6b80e-e6d7-4093-a825-af6cfbc1838e",
   "metadata": {},
   "source": [
    "## Description\n",
    "\n",
    "This project is a comprehensive exploratory data analysis (EDA) of an Airbnb dataset. The goal is to uncover key insights about property listings, pricing trends, and customer behaviour across various neighbourhoods and room types.\n",
    "Using Python libraries such as **Pandas**, **NumPy**, **Matplotlib**, **Seaborn**, we perform data cleaning, visualization and interpretation of trends to answer business-relevant questions."
   ]
  },
  {
   "cell_type": "markdown",
   "id": "98e06cb8-4e99-4ad7-b394-4212dbaf610f",
   "metadata": {},
   "source": [
    "## Import Libraries"
   ]
  },
  {
   "cell_type": "code",
   "execution_count": 1,
   "id": "8de7b57a-dbd1-441f-a5db-c32616d2869b",
   "metadata": {},
   "outputs": [],
   "source": [
    "\n",
    "# numpy: For numerical operations and array handling\n",
    "# pandas: For data manipulation and analysis with DataFrame structures\n",
    "# matplotlib.pyplot: For creating static visualizations\n",
    "# seaborn: For enhanced statistical visualizations based on matplotlib\n",
    "import numpy as np\n",
    "import pandas as pd\n",
    "import matplotlib.pyplot as plt\n",
    "import seaborn as sns"
   ]
  },
  {
   "cell_type": "markdown",
   "id": "b451194e-0991-4f21-b595-0dfe46845e5f",
   "metadata": {},
   "source": [
    "## Load the Dataset"
   ]
  },
  {
   "cell_type": "code",
   "execution_count": 2,
   "id": "d4b5c869-bcbc-46c9-af8e-0afa22eda2d8",
   "metadata": {},
   "outputs": [],
   "source": [
    "# Read the Airbnb dataset from a CSV file into a pandas DataFrame\n",
    "# The low_memory=False parameter prevents mixed type inference issues with large files\n",
    "df = pd.read_csv(\"airbnb_Open_Data.csv\", low_memory=False)"
   ]
  },
  {
   "cell_type": "code",
   "execution_count": 3,
   "id": "5f1375fd-3d2a-42fb-be68-938bb098ae09",
   "metadata": {},
   "outputs": [
    {
     "data": {
      "text/html": [
       "<div>\n",
       "<style scoped>\n",
       "    .dataframe tbody tr th:only-of-type {\n",
       "        vertical-align: middle;\n",
       "    }\n",
       "\n",
       "    .dataframe tbody tr th {\n",
       "        vertical-align: top;\n",
       "    }\n",
       "\n",
       "    .dataframe thead th {\n",
       "        text-align: right;\n",
       "    }\n",
       "</style>\n",
       "<table border=\"1\" class=\"dataframe\">\n",
       "  <thead>\n",
       "    <tr style=\"text-align: right;\">\n",
       "      <th></th>\n",
       "      <th>id</th>\n",
       "      <th>NAME</th>\n",
       "      <th>host id</th>\n",
       "      <th>host_identity_verified</th>\n",
       "      <th>host name</th>\n",
       "      <th>neighbourhood group</th>\n",
       "      <th>neighbourhood</th>\n",
       "      <th>lat</th>\n",
       "      <th>long</th>\n",
       "      <th>country</th>\n",
       "      <th>...</th>\n",
       "      <th>service fee</th>\n",
       "      <th>minimum nights</th>\n",
       "      <th>number of reviews</th>\n",
       "      <th>last review</th>\n",
       "      <th>reviews per month</th>\n",
       "      <th>review rate number</th>\n",
       "      <th>calculated host listings count</th>\n",
       "      <th>availability 365</th>\n",
       "      <th>house_rules</th>\n",
       "      <th>license</th>\n",
       "    </tr>\n",
       "  </thead>\n",
       "  <tbody>\n",
       "    <tr>\n",
       "      <th>0</th>\n",
       "      <td>1001254</td>\n",
       "      <td>Clean &amp; quiet apt home by the park</td>\n",
       "      <td>80014485718</td>\n",
       "      <td>unconfirmed</td>\n",
       "      <td>Madaline</td>\n",
       "      <td>Brooklyn</td>\n",
       "      <td>Kensington</td>\n",
       "      <td>40.64749</td>\n",
       "      <td>-73.97237</td>\n",
       "      <td>United States</td>\n",
       "      <td>...</td>\n",
       "      <td>$193</td>\n",
       "      <td>10.0</td>\n",
       "      <td>9.0</td>\n",
       "      <td>10/19/2021</td>\n",
       "      <td>0.21</td>\n",
       "      <td>4.0</td>\n",
       "      <td>6.0</td>\n",
       "      <td>286.0</td>\n",
       "      <td>Clean up and treat the home the way you'd like...</td>\n",
       "      <td>NaN</td>\n",
       "    </tr>\n",
       "    <tr>\n",
       "      <th>1</th>\n",
       "      <td>1002102</td>\n",
       "      <td>Skylit Midtown Castle</td>\n",
       "      <td>52335172823</td>\n",
       "      <td>verified</td>\n",
       "      <td>Jenna</td>\n",
       "      <td>Manhattan</td>\n",
       "      <td>Midtown</td>\n",
       "      <td>40.75362</td>\n",
       "      <td>-73.98377</td>\n",
       "      <td>United States</td>\n",
       "      <td>...</td>\n",
       "      <td>$28</td>\n",
       "      <td>30.0</td>\n",
       "      <td>45.0</td>\n",
       "      <td>5/21/2022</td>\n",
       "      <td>0.38</td>\n",
       "      <td>4.0</td>\n",
       "      <td>2.0</td>\n",
       "      <td>228.0</td>\n",
       "      <td>Pet friendly but please confirm with me if the...</td>\n",
       "      <td>NaN</td>\n",
       "    </tr>\n",
       "    <tr>\n",
       "      <th>2</th>\n",
       "      <td>1002403</td>\n",
       "      <td>THE VILLAGE OF HARLEM....NEW YORK !</td>\n",
       "      <td>78829239556</td>\n",
       "      <td>NaN</td>\n",
       "      <td>Elise</td>\n",
       "      <td>Manhattan</td>\n",
       "      <td>Harlem</td>\n",
       "      <td>40.80902</td>\n",
       "      <td>-73.94190</td>\n",
       "      <td>United States</td>\n",
       "      <td>...</td>\n",
       "      <td>$124</td>\n",
       "      <td>3.0</td>\n",
       "      <td>0.0</td>\n",
       "      <td>NaN</td>\n",
       "      <td>NaN</td>\n",
       "      <td>5.0</td>\n",
       "      <td>1.0</td>\n",
       "      <td>352.0</td>\n",
       "      <td>I encourage you to use my kitchen, cooking and...</td>\n",
       "      <td>NaN</td>\n",
       "    </tr>\n",
       "    <tr>\n",
       "      <th>3</th>\n",
       "      <td>1002755</td>\n",
       "      <td>NaN</td>\n",
       "      <td>85098326012</td>\n",
       "      <td>unconfirmed</td>\n",
       "      <td>Garry</td>\n",
       "      <td>Brooklyn</td>\n",
       "      <td>Clinton Hill</td>\n",
       "      <td>40.68514</td>\n",
       "      <td>-73.95976</td>\n",
       "      <td>United States</td>\n",
       "      <td>...</td>\n",
       "      <td>$74</td>\n",
       "      <td>30.0</td>\n",
       "      <td>270.0</td>\n",
       "      <td>7/5/2019</td>\n",
       "      <td>4.64</td>\n",
       "      <td>4.0</td>\n",
       "      <td>1.0</td>\n",
       "      <td>322.0</td>\n",
       "      <td>NaN</td>\n",
       "      <td>NaN</td>\n",
       "    </tr>\n",
       "    <tr>\n",
       "      <th>4</th>\n",
       "      <td>1003689</td>\n",
       "      <td>Entire Apt: Spacious Studio/Loft by central park</td>\n",
       "      <td>92037596077</td>\n",
       "      <td>verified</td>\n",
       "      <td>Lyndon</td>\n",
       "      <td>Manhattan</td>\n",
       "      <td>East Harlem</td>\n",
       "      <td>40.79851</td>\n",
       "      <td>-73.94399</td>\n",
       "      <td>United States</td>\n",
       "      <td>...</td>\n",
       "      <td>$41</td>\n",
       "      <td>10.0</td>\n",
       "      <td>9.0</td>\n",
       "      <td>11/19/2018</td>\n",
       "      <td>0.10</td>\n",
       "      <td>3.0</td>\n",
       "      <td>1.0</td>\n",
       "      <td>289.0</td>\n",
       "      <td>Please no smoking in the house, porch or on th...</td>\n",
       "      <td>NaN</td>\n",
       "    </tr>\n",
       "  </tbody>\n",
       "</table>\n",
       "<p>5 rows × 26 columns</p>\n",
       "</div>"
      ],
      "text/plain": [
       "        id                                              NAME      host id  \\\n",
       "0  1001254                Clean & quiet apt home by the park  80014485718   \n",
       "1  1002102                             Skylit Midtown Castle  52335172823   \n",
       "2  1002403               THE VILLAGE OF HARLEM....NEW YORK !  78829239556   \n",
       "3  1002755                                               NaN  85098326012   \n",
       "4  1003689  Entire Apt: Spacious Studio/Loft by central park  92037596077   \n",
       "\n",
       "  host_identity_verified host name neighbourhood group neighbourhood  \\\n",
       "0            unconfirmed  Madaline            Brooklyn    Kensington   \n",
       "1               verified     Jenna           Manhattan       Midtown   \n",
       "2                    NaN     Elise           Manhattan        Harlem   \n",
       "3            unconfirmed     Garry            Brooklyn  Clinton Hill   \n",
       "4               verified    Lyndon           Manhattan   East Harlem   \n",
       "\n",
       "        lat      long        country  ... service fee minimum nights  \\\n",
       "0  40.64749 -73.97237  United States  ...       $193            10.0   \n",
       "1  40.75362 -73.98377  United States  ...        $28            30.0   \n",
       "2  40.80902 -73.94190  United States  ...       $124             3.0   \n",
       "3  40.68514 -73.95976  United States  ...        $74            30.0   \n",
       "4  40.79851 -73.94399  United States  ...        $41            10.0   \n",
       "\n",
       "  number of reviews last review  reviews per month review rate number  \\\n",
       "0               9.0  10/19/2021               0.21                4.0   \n",
       "1              45.0   5/21/2022               0.38                4.0   \n",
       "2               0.0         NaN                NaN                5.0   \n",
       "3             270.0    7/5/2019               4.64                4.0   \n",
       "4               9.0  11/19/2018               0.10                3.0   \n",
       "\n",
       "  calculated host listings count  availability 365  \\\n",
       "0                            6.0             286.0   \n",
       "1                            2.0             228.0   \n",
       "2                            1.0             352.0   \n",
       "3                            1.0             322.0   \n",
       "4                            1.0             289.0   \n",
       "\n",
       "                                         house_rules license  \n",
       "0  Clean up and treat the home the way you'd like...     NaN  \n",
       "1  Pet friendly but please confirm with me if the...     NaN  \n",
       "2  I encourage you to use my kitchen, cooking and...     NaN  \n",
       "3                                                NaN     NaN  \n",
       "4  Please no smoking in the house, porch or on th...     NaN  \n",
       "\n",
       "[5 rows x 26 columns]"
      ]
     },
     "execution_count": 3,
     "metadata": {},
     "output_type": "execute_result"
    }
   ],
   "source": [
    "# Display the first 5 rows of the dataframe to get a quick overview of the data structure\n",
    "df.head()"
   ]
  },
  {
   "cell_type": "markdown",
   "id": "2c234294-112a-4bf6-8680-5b54da756a14",
   "metadata": {},
   "source": [
    "## Explore Column Names"
   ]
  },
  {
   "cell_type": "code",
   "execution_count": 4,
   "id": "f1d54bca-d735-4cd1-a756-44d0f44b4c61",
   "metadata": {},
   "outputs": [
    {
     "data": {
      "text/plain": [
       "Index(['id', 'NAME', 'host id', 'host_identity_verified', 'host name',\n",
       "       'neighbourhood group', 'neighbourhood', 'lat', 'long', 'country',\n",
       "       'country code', 'instant_bookable', 'cancellation_policy', 'room type',\n",
       "       'Construction year', 'price', 'service fee', 'minimum nights',\n",
       "       'number of reviews', 'last review', 'reviews per month',\n",
       "       'review rate number', 'calculated host listings count',\n",
       "       'availability 365', 'house_rules', 'license'],\n",
       "      dtype='object')"
      ]
     },
     "execution_count": 4,
     "metadata": {},
     "output_type": "execute_result"
    }
   ],
   "source": [
    "# Get the column names of the DataFrame 'df'\n",
    "df.columns"
   ]
  },
  {
   "cell_type": "markdown",
   "id": "4373f033-7e41-4968-8e43-83a28eedc0ac",
   "metadata": {},
   "source": [
    "## Checking Missing Values"
   ]
  },
  {
   "cell_type": "code",
   "execution_count": 5,
   "id": "99a48c98-5346-4eb6-98d1-912dd331858e",
   "metadata": {},
   "outputs": [
    {
     "name": "stdout",
     "output_type": "stream",
     "text": [
      "id                                     0\n",
      "NAME                                 250\n",
      "host id                                0\n",
      "host_identity_verified               289\n",
      "host name                            406\n",
      "neighbourhood group                   29\n",
      "neighbourhood                         16\n",
      "lat                                    8\n",
      "long                                   8\n",
      "country                              532\n",
      "country code                         131\n",
      "instant_bookable                     105\n",
      "cancellation_policy                   76\n",
      "room type                              0\n",
      "Construction year                    214\n",
      "price                                247\n",
      "service fee                          273\n",
      "minimum nights                       409\n",
      "number of reviews                    183\n",
      "last review                        15893\n",
      "reviews per month                  15879\n",
      "review rate number                   326\n",
      "calculated host listings count       319\n",
      "availability 365                     448\n",
      "house_rules                        52131\n",
      "license                           102597\n",
      "dtype: int64\n"
     ]
    }
   ],
   "source": [
    "# Check for missing values in the dataframe and display the count of null values for each column\n",
    "print(df.isnull().sum())"
   ]
  },
  {
   "cell_type": "markdown",
   "id": "bc5a455c-3706-4731-8bb5-81067e55791d",
   "metadata": {},
   "source": [
    "# Handling Missing Values"
   ]
  },
  {
   "cell_type": "code",
   "execution_count": 6,
   "id": "0ffeb18e-47c7-4917-a870-84ed95cb90b9",
   "metadata": {},
   "outputs": [],
   "source": [
    "# Convert 'last review' column to datetime format\n",
    "# The 'errors='coerce'' parameter will convert invalid dates to NaT (Not a Time) values\n",
    "df['last review'] = pd.to_datetime(df['last review'], errors = 'coerce')"
   ]
  },
  {
   "cell_type": "code",
   "execution_count": 7,
   "id": "479a2b7c-8127-470f-aeb8-e77fad1baa13",
   "metadata": {},
   "outputs": [
    {
     "name": "stdout",
     "output_type": "stream",
     "text": [
      "<class 'pandas.core.frame.DataFrame'>\n",
      "RangeIndex: 102599 entries, 0 to 102598\n",
      "Data columns (total 26 columns):\n",
      " #   Column                          Non-Null Count   Dtype         \n",
      "---  ------                          --------------   -----         \n",
      " 0   id                              102599 non-null  int64         \n",
      " 1   NAME                            102349 non-null  object        \n",
      " 2   host id                         102599 non-null  int64         \n",
      " 3   host_identity_verified          102310 non-null  object        \n",
      " 4   host name                       102193 non-null  object        \n",
      " 5   neighbourhood group             102570 non-null  object        \n",
      " 6   neighbourhood                   102583 non-null  object        \n",
      " 7   lat                             102591 non-null  float64       \n",
      " 8   long                            102591 non-null  float64       \n",
      " 9   country                         102067 non-null  object        \n",
      " 10  country code                    102468 non-null  object        \n",
      " 11  instant_bookable                102494 non-null  object        \n",
      " 12  cancellation_policy             102523 non-null  object        \n",
      " 13  room type                       102599 non-null  object        \n",
      " 14  Construction year               102385 non-null  float64       \n",
      " 15  price                           102352 non-null  object        \n",
      " 16  service fee                     102326 non-null  object        \n",
      " 17  minimum nights                  102190 non-null  float64       \n",
      " 18  number of reviews               102416 non-null  float64       \n",
      " 19  last review                     86706 non-null   datetime64[ns]\n",
      " 20  reviews per month               86720 non-null   float64       \n",
      " 21  review rate number              102273 non-null  float64       \n",
      " 22  calculated host listings count  102280 non-null  float64       \n",
      " 23  availability 365                102151 non-null  float64       \n",
      " 24  house_rules                     50468 non-null   object        \n",
      " 25  license                         2 non-null       object        \n",
      "dtypes: datetime64[ns](1), float64(9), int64(2), object(14)\n",
      "memory usage: 20.4+ MB\n"
     ]
    }
   ],
   "source": [
    "# Display concise summary of the DataFrame including:\n",
    "# - Total number of entries\n",
    "# - Column names and their data types\n",
    "# - Non-null value counts\n",
    "# - Memory usage\n",
    "df.info()"
   ]
  },
  {
   "cell_type": "code",
   "execution_count": 8,
   "id": "176a7130-d613-4c90-ad70-c5cc91fa7f49",
   "metadata": {},
   "outputs": [],
   "source": [
    "# Fill missing values in 'reviews per month' with 0 and missing 'last review' dates \n",
    "# with the earliest review date in the dataset\n",
    "df.fillna({'reviews per month' : 0, 'last review' : df['last review'].min()}, inplace = True)"
   ]
  },
  {
   "cell_type": "code",
   "execution_count": 9,
   "id": "80af48c1-a700-4a51-a0a0-6f3ab2b36f0c",
   "metadata": {},
   "outputs": [],
   "source": [
    "# Remove rows with missing values in the 'NAME' and 'host name' columns\n",
    "# inplace=True modifies the DataFrame directly instead of returning a copy\n",
    "df.dropna(subset = ['NAME' , 'host name'] , inplace = True) "
   ]
  },
  {
   "cell_type": "code",
   "execution_count": 10,
   "id": "9b02de58-4847-409f-9156-884d384e66ee",
   "metadata": {},
   "outputs": [
    {
     "name": "stdout",
     "output_type": "stream",
     "text": [
      "id                                     0\n",
      "NAME                                   0\n",
      "host id                                0\n",
      "host_identity_verified               276\n",
      "host name                              0\n",
      "neighbourhood group                   26\n",
      "neighbourhood                         16\n",
      "lat                                    8\n",
      "long                                   8\n",
      "country                              526\n",
      "country code                         122\n",
      "instant_bookable                      96\n",
      "cancellation_policy                   70\n",
      "room type                              0\n",
      "Construction year                    200\n",
      "price                                239\n",
      "service fee                          268\n",
      "minimum nights                       403\n",
      "number of reviews                    182\n",
      "last review                            0\n",
      "reviews per month                      0\n",
      "review rate number                   314\n",
      "calculated host listings count       318\n",
      "availability 365                     420\n",
      "house_rules                        51867\n",
      "license                           101947\n",
      "dtype: int64\n"
     ]
    }
   ],
   "source": [
    "# Check for missing values in the dataframe and display the count of null values for each column\n",
    "print(df.isnull().sum()) "
   ]
  },
  {
   "cell_type": "code",
   "execution_count": 11,
   "id": "68d7034b-9a83-49a0-861c-f754fff02f65",
   "metadata": {},
   "outputs": [],
   "source": [
    "# Remove 'license' and 'house_rules' columns from the dataframe if they exist\n",
    "# The errors='ignore' parameter prevents errors if these columns don't exist\n",
    "df = df.drop(columns=[\"license\", \"house_rules\"], errors='ignore')"
   ]
  },
  {
   "cell_type": "code",
   "execution_count": 12,
   "id": "3a683748-eec8-4a22-a6eb-f3d304cfeee4",
   "metadata": {},
   "outputs": [
    {
     "data": {
      "text/html": [
       "<div>\n",
       "<style scoped>\n",
       "    .dataframe tbody tr th:only-of-type {\n",
       "        vertical-align: middle;\n",
       "    }\n",
       "\n",
       "    .dataframe tbody tr th {\n",
       "        vertical-align: top;\n",
       "    }\n",
       "\n",
       "    .dataframe thead th {\n",
       "        text-align: right;\n",
       "    }\n",
       "</style>\n",
       "<table border=\"1\" class=\"dataframe\">\n",
       "  <thead>\n",
       "    <tr style=\"text-align: right;\">\n",
       "      <th></th>\n",
       "      <th>id</th>\n",
       "      <th>NAME</th>\n",
       "      <th>host id</th>\n",
       "      <th>host_identity_verified</th>\n",
       "      <th>host name</th>\n",
       "      <th>neighbourhood group</th>\n",
       "      <th>neighbourhood</th>\n",
       "      <th>lat</th>\n",
       "      <th>long</th>\n",
       "      <th>country</th>\n",
       "      <th>...</th>\n",
       "      <th>Construction year</th>\n",
       "      <th>price</th>\n",
       "      <th>service fee</th>\n",
       "      <th>minimum nights</th>\n",
       "      <th>number of reviews</th>\n",
       "      <th>last review</th>\n",
       "      <th>reviews per month</th>\n",
       "      <th>review rate number</th>\n",
       "      <th>calculated host listings count</th>\n",
       "      <th>availability 365</th>\n",
       "    </tr>\n",
       "  </thead>\n",
       "  <tbody>\n",
       "    <tr>\n",
       "      <th>0</th>\n",
       "      <td>1001254</td>\n",
       "      <td>Clean &amp; quiet apt home by the park</td>\n",
       "      <td>80014485718</td>\n",
       "      <td>unconfirmed</td>\n",
       "      <td>Madaline</td>\n",
       "      <td>Brooklyn</td>\n",
       "      <td>Kensington</td>\n",
       "      <td>40.64749</td>\n",
       "      <td>-73.97237</td>\n",
       "      <td>United States</td>\n",
       "      <td>...</td>\n",
       "      <td>2020.0</td>\n",
       "      <td>$966</td>\n",
       "      <td>$193</td>\n",
       "      <td>10.0</td>\n",
       "      <td>9.0</td>\n",
       "      <td>2021-10-19</td>\n",
       "      <td>0.21</td>\n",
       "      <td>4.0</td>\n",
       "      <td>6.0</td>\n",
       "      <td>286.0</td>\n",
       "    </tr>\n",
       "    <tr>\n",
       "      <th>1</th>\n",
       "      <td>1002102</td>\n",
       "      <td>Skylit Midtown Castle</td>\n",
       "      <td>52335172823</td>\n",
       "      <td>verified</td>\n",
       "      <td>Jenna</td>\n",
       "      <td>Manhattan</td>\n",
       "      <td>Midtown</td>\n",
       "      <td>40.75362</td>\n",
       "      <td>-73.98377</td>\n",
       "      <td>United States</td>\n",
       "      <td>...</td>\n",
       "      <td>2007.0</td>\n",
       "      <td>$142</td>\n",
       "      <td>$28</td>\n",
       "      <td>30.0</td>\n",
       "      <td>45.0</td>\n",
       "      <td>2022-05-21</td>\n",
       "      <td>0.38</td>\n",
       "      <td>4.0</td>\n",
       "      <td>2.0</td>\n",
       "      <td>228.0</td>\n",
       "    </tr>\n",
       "    <tr>\n",
       "      <th>2</th>\n",
       "      <td>1002403</td>\n",
       "      <td>THE VILLAGE OF HARLEM....NEW YORK !</td>\n",
       "      <td>78829239556</td>\n",
       "      <td>NaN</td>\n",
       "      <td>Elise</td>\n",
       "      <td>Manhattan</td>\n",
       "      <td>Harlem</td>\n",
       "      <td>40.80902</td>\n",
       "      <td>-73.94190</td>\n",
       "      <td>United States</td>\n",
       "      <td>...</td>\n",
       "      <td>2005.0</td>\n",
       "      <td>$620</td>\n",
       "      <td>$124</td>\n",
       "      <td>3.0</td>\n",
       "      <td>0.0</td>\n",
       "      <td>2012-07-11</td>\n",
       "      <td>0.00</td>\n",
       "      <td>5.0</td>\n",
       "      <td>1.0</td>\n",
       "      <td>352.0</td>\n",
       "    </tr>\n",
       "    <tr>\n",
       "      <th>4</th>\n",
       "      <td>1003689</td>\n",
       "      <td>Entire Apt: Spacious Studio/Loft by central park</td>\n",
       "      <td>92037596077</td>\n",
       "      <td>verified</td>\n",
       "      <td>Lyndon</td>\n",
       "      <td>Manhattan</td>\n",
       "      <td>East Harlem</td>\n",
       "      <td>40.79851</td>\n",
       "      <td>-73.94399</td>\n",
       "      <td>United States</td>\n",
       "      <td>...</td>\n",
       "      <td>2009.0</td>\n",
       "      <td>$204</td>\n",
       "      <td>$41</td>\n",
       "      <td>10.0</td>\n",
       "      <td>9.0</td>\n",
       "      <td>2018-11-19</td>\n",
       "      <td>0.10</td>\n",
       "      <td>3.0</td>\n",
       "      <td>1.0</td>\n",
       "      <td>289.0</td>\n",
       "    </tr>\n",
       "    <tr>\n",
       "      <th>5</th>\n",
       "      <td>1004098</td>\n",
       "      <td>Large Cozy 1 BR Apartment In Midtown East</td>\n",
       "      <td>45498551794</td>\n",
       "      <td>verified</td>\n",
       "      <td>Michelle</td>\n",
       "      <td>Manhattan</td>\n",
       "      <td>Murray Hill</td>\n",
       "      <td>40.74767</td>\n",
       "      <td>-73.97500</td>\n",
       "      <td>United States</td>\n",
       "      <td>...</td>\n",
       "      <td>2013.0</td>\n",
       "      <td>$577</td>\n",
       "      <td>$115</td>\n",
       "      <td>3.0</td>\n",
       "      <td>74.0</td>\n",
       "      <td>2019-06-22</td>\n",
       "      <td>0.59</td>\n",
       "      <td>3.0</td>\n",
       "      <td>1.0</td>\n",
       "      <td>374.0</td>\n",
       "    </tr>\n",
       "  </tbody>\n",
       "</table>\n",
       "<p>5 rows × 24 columns</p>\n",
       "</div>"
      ],
      "text/plain": [
       "        id                                              NAME      host id  \\\n",
       "0  1001254                Clean & quiet apt home by the park  80014485718   \n",
       "1  1002102                             Skylit Midtown Castle  52335172823   \n",
       "2  1002403               THE VILLAGE OF HARLEM....NEW YORK !  78829239556   \n",
       "4  1003689  Entire Apt: Spacious Studio/Loft by central park  92037596077   \n",
       "5  1004098         Large Cozy 1 BR Apartment In Midtown East  45498551794   \n",
       "\n",
       "  host_identity_verified host name neighbourhood group neighbourhood  \\\n",
       "0            unconfirmed  Madaline            Brooklyn    Kensington   \n",
       "1               verified     Jenna           Manhattan       Midtown   \n",
       "2                    NaN     Elise           Manhattan        Harlem   \n",
       "4               verified    Lyndon           Manhattan   East Harlem   \n",
       "5               verified  Michelle           Manhattan   Murray Hill   \n",
       "\n",
       "        lat      long        country  ... Construction year  price  \\\n",
       "0  40.64749 -73.97237  United States  ...            2020.0  $966    \n",
       "1  40.75362 -73.98377  United States  ...            2007.0  $142    \n",
       "2  40.80902 -73.94190  United States  ...            2005.0  $620    \n",
       "4  40.79851 -73.94399  United States  ...            2009.0  $204    \n",
       "5  40.74767 -73.97500  United States  ...            2013.0  $577    \n",
       "\n",
       "  service fee minimum nights  number of reviews last review reviews per month  \\\n",
       "0       $193            10.0                9.0  2021-10-19              0.21   \n",
       "1        $28            30.0               45.0  2022-05-21              0.38   \n",
       "2       $124             3.0                0.0  2012-07-11              0.00   \n",
       "4        $41            10.0                9.0  2018-11-19              0.10   \n",
       "5       $115             3.0               74.0  2019-06-22              0.59   \n",
       "\n",
       "   review rate number  calculated host listings count availability 365  \n",
       "0                 4.0                             6.0            286.0  \n",
       "1                 4.0                             2.0            228.0  \n",
       "2                 5.0                             1.0            352.0  \n",
       "4                 3.0                             1.0            289.0  \n",
       "5                 3.0                             1.0            374.0  \n",
       "\n",
       "[5 rows x 24 columns]"
      ]
     },
     "execution_count": 12,
     "metadata": {},
     "output_type": "execute_result"
    }
   ],
   "source": [
    "# Display the first 5 rows of the dataframe to preview its structure and content\n",
    "df.head()"
   ]
  },
  {
   "cell_type": "code",
   "execution_count": 13,
   "id": "0696226a-f589-4f9d-9e69-36ae23a78ae6",
   "metadata": {},
   "outputs": [],
   "source": [
    "# Remove dollar signs and commas from price column and convert to float\n",
    "df['price'] = df['price'].replace('[\\\\$,]', '', regex=True).astype(float)\n",
    "# Remove dollar signs and commas from service fee column and convert to float\n",
    "df['service fee'] = df['service fee'].replace('[\\\\$,]', '', regex=True).astype(float)"
   ]
  },
  {
   "cell_type": "code",
   "execution_count": 14,
   "id": "1fe95ccd-a3e2-4a91-800c-e2142ea05003",
   "metadata": {},
   "outputs": [
    {
     "data": {
      "text/html": [
       "<div>\n",
       "<style scoped>\n",
       "    .dataframe tbody tr th:only-of-type {\n",
       "        vertical-align: middle;\n",
       "    }\n",
       "\n",
       "    .dataframe tbody tr th {\n",
       "        vertical-align: top;\n",
       "    }\n",
       "\n",
       "    .dataframe thead th {\n",
       "        text-align: right;\n",
       "    }\n",
       "</style>\n",
       "<table border=\"1\" class=\"dataframe\">\n",
       "  <thead>\n",
       "    <tr style=\"text-align: right;\">\n",
       "      <th></th>\n",
       "      <th>id</th>\n",
       "      <th>NAME</th>\n",
       "      <th>host id</th>\n",
       "      <th>host_identity_verified</th>\n",
       "      <th>host name</th>\n",
       "      <th>neighbourhood group</th>\n",
       "      <th>neighbourhood</th>\n",
       "      <th>lat</th>\n",
       "      <th>long</th>\n",
       "      <th>country</th>\n",
       "      <th>...</th>\n",
       "      <th>Construction year</th>\n",
       "      <th>price</th>\n",
       "      <th>service fee</th>\n",
       "      <th>minimum nights</th>\n",
       "      <th>number of reviews</th>\n",
       "      <th>last review</th>\n",
       "      <th>reviews per month</th>\n",
       "      <th>review rate number</th>\n",
       "      <th>calculated host listings count</th>\n",
       "      <th>availability 365</th>\n",
       "    </tr>\n",
       "  </thead>\n",
       "  <tbody>\n",
       "    <tr>\n",
       "      <th>0</th>\n",
       "      <td>1001254</td>\n",
       "      <td>Clean &amp; quiet apt home by the park</td>\n",
       "      <td>80014485718</td>\n",
       "      <td>unconfirmed</td>\n",
       "      <td>Madaline</td>\n",
       "      <td>Brooklyn</td>\n",
       "      <td>Kensington</td>\n",
       "      <td>40.64749</td>\n",
       "      <td>-73.97237</td>\n",
       "      <td>United States</td>\n",
       "      <td>...</td>\n",
       "      <td>2020.0</td>\n",
       "      <td>966.0</td>\n",
       "      <td>193.0</td>\n",
       "      <td>10.0</td>\n",
       "      <td>9.0</td>\n",
       "      <td>2021-10-19</td>\n",
       "      <td>0.21</td>\n",
       "      <td>4.0</td>\n",
       "      <td>6.0</td>\n",
       "      <td>286.0</td>\n",
       "    </tr>\n",
       "    <tr>\n",
       "      <th>1</th>\n",
       "      <td>1002102</td>\n",
       "      <td>Skylit Midtown Castle</td>\n",
       "      <td>52335172823</td>\n",
       "      <td>verified</td>\n",
       "      <td>Jenna</td>\n",
       "      <td>Manhattan</td>\n",
       "      <td>Midtown</td>\n",
       "      <td>40.75362</td>\n",
       "      <td>-73.98377</td>\n",
       "      <td>United States</td>\n",
       "      <td>...</td>\n",
       "      <td>2007.0</td>\n",
       "      <td>142.0</td>\n",
       "      <td>28.0</td>\n",
       "      <td>30.0</td>\n",
       "      <td>45.0</td>\n",
       "      <td>2022-05-21</td>\n",
       "      <td>0.38</td>\n",
       "      <td>4.0</td>\n",
       "      <td>2.0</td>\n",
       "      <td>228.0</td>\n",
       "    </tr>\n",
       "    <tr>\n",
       "      <th>2</th>\n",
       "      <td>1002403</td>\n",
       "      <td>THE VILLAGE OF HARLEM....NEW YORK !</td>\n",
       "      <td>78829239556</td>\n",
       "      <td>NaN</td>\n",
       "      <td>Elise</td>\n",
       "      <td>Manhattan</td>\n",
       "      <td>Harlem</td>\n",
       "      <td>40.80902</td>\n",
       "      <td>-73.94190</td>\n",
       "      <td>United States</td>\n",
       "      <td>...</td>\n",
       "      <td>2005.0</td>\n",
       "      <td>620.0</td>\n",
       "      <td>124.0</td>\n",
       "      <td>3.0</td>\n",
       "      <td>0.0</td>\n",
       "      <td>2012-07-11</td>\n",
       "      <td>0.00</td>\n",
       "      <td>5.0</td>\n",
       "      <td>1.0</td>\n",
       "      <td>352.0</td>\n",
       "    </tr>\n",
       "    <tr>\n",
       "      <th>4</th>\n",
       "      <td>1003689</td>\n",
       "      <td>Entire Apt: Spacious Studio/Loft by central park</td>\n",
       "      <td>92037596077</td>\n",
       "      <td>verified</td>\n",
       "      <td>Lyndon</td>\n",
       "      <td>Manhattan</td>\n",
       "      <td>East Harlem</td>\n",
       "      <td>40.79851</td>\n",
       "      <td>-73.94399</td>\n",
       "      <td>United States</td>\n",
       "      <td>...</td>\n",
       "      <td>2009.0</td>\n",
       "      <td>204.0</td>\n",
       "      <td>41.0</td>\n",
       "      <td>10.0</td>\n",
       "      <td>9.0</td>\n",
       "      <td>2018-11-19</td>\n",
       "      <td>0.10</td>\n",
       "      <td>3.0</td>\n",
       "      <td>1.0</td>\n",
       "      <td>289.0</td>\n",
       "    </tr>\n",
       "    <tr>\n",
       "      <th>5</th>\n",
       "      <td>1004098</td>\n",
       "      <td>Large Cozy 1 BR Apartment In Midtown East</td>\n",
       "      <td>45498551794</td>\n",
       "      <td>verified</td>\n",
       "      <td>Michelle</td>\n",
       "      <td>Manhattan</td>\n",
       "      <td>Murray Hill</td>\n",
       "      <td>40.74767</td>\n",
       "      <td>-73.97500</td>\n",
       "      <td>United States</td>\n",
       "      <td>...</td>\n",
       "      <td>2013.0</td>\n",
       "      <td>577.0</td>\n",
       "      <td>115.0</td>\n",
       "      <td>3.0</td>\n",
       "      <td>74.0</td>\n",
       "      <td>2019-06-22</td>\n",
       "      <td>0.59</td>\n",
       "      <td>3.0</td>\n",
       "      <td>1.0</td>\n",
       "      <td>374.0</td>\n",
       "    </tr>\n",
       "  </tbody>\n",
       "</table>\n",
       "<p>5 rows × 24 columns</p>\n",
       "</div>"
      ],
      "text/plain": [
       "        id                                              NAME      host id  \\\n",
       "0  1001254                Clean & quiet apt home by the park  80014485718   \n",
       "1  1002102                             Skylit Midtown Castle  52335172823   \n",
       "2  1002403               THE VILLAGE OF HARLEM....NEW YORK !  78829239556   \n",
       "4  1003689  Entire Apt: Spacious Studio/Loft by central park  92037596077   \n",
       "5  1004098         Large Cozy 1 BR Apartment In Midtown East  45498551794   \n",
       "\n",
       "  host_identity_verified host name neighbourhood group neighbourhood  \\\n",
       "0            unconfirmed  Madaline            Brooklyn    Kensington   \n",
       "1               verified     Jenna           Manhattan       Midtown   \n",
       "2                    NaN     Elise           Manhattan        Harlem   \n",
       "4               verified    Lyndon           Manhattan   East Harlem   \n",
       "5               verified  Michelle           Manhattan   Murray Hill   \n",
       "\n",
       "        lat      long        country  ... Construction year  price  \\\n",
       "0  40.64749 -73.97237  United States  ...            2020.0  966.0   \n",
       "1  40.75362 -73.98377  United States  ...            2007.0  142.0   \n",
       "2  40.80902 -73.94190  United States  ...            2005.0  620.0   \n",
       "4  40.79851 -73.94399  United States  ...            2009.0  204.0   \n",
       "5  40.74767 -73.97500  United States  ...            2013.0  577.0   \n",
       "\n",
       "  service fee minimum nights  number of reviews  last review  \\\n",
       "0       193.0           10.0                9.0   2021-10-19   \n",
       "1        28.0           30.0               45.0   2022-05-21   \n",
       "2       124.0            3.0                0.0   2012-07-11   \n",
       "4        41.0           10.0                9.0   2018-11-19   \n",
       "5       115.0            3.0               74.0   2019-06-22   \n",
       "\n",
       "   reviews per month  review rate number  calculated host listings count  \\\n",
       "0               0.21                 4.0                             6.0   \n",
       "1               0.38                 4.0                             2.0   \n",
       "2               0.00                 5.0                             1.0   \n",
       "4               0.10                 3.0                             1.0   \n",
       "5               0.59                 3.0                             1.0   \n",
       "\n",
       "  availability 365  \n",
       "0            286.0  \n",
       "1            228.0  \n",
       "2            352.0  \n",
       "4            289.0  \n",
       "5            374.0  \n",
       "\n",
       "[5 rows x 24 columns]"
      ]
     },
     "execution_count": 14,
     "metadata": {},
     "output_type": "execute_result"
    }
   ],
   "source": [
    "# Display the first 5 rows of the dataframe to preview its structure and content\n",
    "df.head()"
   ]
  },
  {
   "cell_type": "markdown",
   "id": "d56dbf69-e2ea-4168-8501-2b932569aad8",
   "metadata": {},
   "source": [
    "# Remove Duplicates"
   ]
  },
  {
   "cell_type": "code",
   "execution_count": 15,
   "id": "609ca076-12d1-4b2c-a2a5-7d7c72835f4c",
   "metadata": {},
   "outputs": [],
   "source": [
    "# Remove duplicate rows from the dataframe and modify the original dataframe\n",
    "df.drop_duplicates(inplace = True)"
   ]
  },
  {
   "cell_type": "code",
   "execution_count": 16,
   "id": "62b28904-1b39-4d04-a513-a68d8f890cc3",
   "metadata": {},
   "outputs": [
    {
     "name": "stdout",
     "output_type": "stream",
     "text": [
      "<class 'pandas.core.frame.DataFrame'>\n",
      "Index: 101410 entries, 0 to 102057\n",
      "Data columns (total 24 columns):\n",
      " #   Column                          Non-Null Count   Dtype         \n",
      "---  ------                          --------------   -----         \n",
      " 0   id                              101410 non-null  int64         \n",
      " 1   NAME                            101410 non-null  object        \n",
      " 2   host id                         101410 non-null  int64         \n",
      " 3   host_identity_verified          101134 non-null  object        \n",
      " 4   host name                       101410 non-null  object        \n",
      " 5   neighbourhood group             101384 non-null  object        \n",
      " 6   neighbourhood                   101394 non-null  object        \n",
      " 7   lat                             101402 non-null  float64       \n",
      " 8   long                            101402 non-null  float64       \n",
      " 9   country                         100884 non-null  object        \n",
      " 10  country code                    101288 non-null  object        \n",
      " 11  instant_bookable                101314 non-null  object        \n",
      " 12  cancellation_policy             101340 non-null  object        \n",
      " 13  room type                       101410 non-null  object        \n",
      " 14  Construction year               101210 non-null  float64       \n",
      " 15  price                           101171 non-null  float64       \n",
      " 16  service fee                     101142 non-null  float64       \n",
      " 17  minimum nights                  101016 non-null  float64       \n",
      " 18  number of reviews               101228 non-null  float64       \n",
      " 19  last review                     101410 non-null  datetime64[ns]\n",
      " 20  reviews per month               101410 non-null  float64       \n",
      " 21  review rate number              101103 non-null  float64       \n",
      " 22  calculated host listings count  101092 non-null  float64       \n",
      " 23  availability 365                100990 non-null  float64       \n",
      "dtypes: datetime64[ns](1), float64(11), int64(2), object(10)\n",
      "memory usage: 19.3+ MB\n"
     ]
    }
   ],
   "source": [
    "# Display concise summary of the DataFrame including:\n",
    "# - Total number of rows and columns\n",
    "# - Column names and their data types\n",
    "# - Non-null value counts\n",
    "# - Memory usage\n",
    "df.info()"
   ]
  },
  {
   "cell_type": "markdown",
   "id": "12723a88-83b5-42b7-9153-15f5d4883fd8",
   "metadata": {},
   "source": [
    "## Descriptive Statistics"
   ]
  },
  {
   "cell_type": "code",
   "execution_count": 17,
   "id": "8e84966c-7220-44fc-80f5-c75cc4d4d529",
   "metadata": {},
   "outputs": [
    {
     "data": {
      "text/html": [
       "<div>\n",
       "<style scoped>\n",
       "    .dataframe tbody tr th:only-of-type {\n",
       "        vertical-align: middle;\n",
       "    }\n",
       "\n",
       "    .dataframe tbody tr th {\n",
       "        vertical-align: top;\n",
       "    }\n",
       "\n",
       "    .dataframe thead th {\n",
       "        text-align: right;\n",
       "    }\n",
       "</style>\n",
       "<table border=\"1\" class=\"dataframe\">\n",
       "  <thead>\n",
       "    <tr style=\"text-align: right;\">\n",
       "      <th></th>\n",
       "      <th>id</th>\n",
       "      <th>host id</th>\n",
       "      <th>lat</th>\n",
       "      <th>long</th>\n",
       "      <th>Construction year</th>\n",
       "      <th>price</th>\n",
       "      <th>service fee</th>\n",
       "      <th>minimum nights</th>\n",
       "      <th>number of reviews</th>\n",
       "      <th>last review</th>\n",
       "      <th>reviews per month</th>\n",
       "      <th>review rate number</th>\n",
       "      <th>calculated host listings count</th>\n",
       "      <th>availability 365</th>\n",
       "    </tr>\n",
       "  </thead>\n",
       "  <tbody>\n",
       "    <tr>\n",
       "      <th>count</th>\n",
       "      <td>1.014100e+05</td>\n",
       "      <td>1.014100e+05</td>\n",
       "      <td>101402.000000</td>\n",
       "      <td>101402.000000</td>\n",
       "      <td>101210.000000</td>\n",
       "      <td>101171.000000</td>\n",
       "      <td>101142.000000</td>\n",
       "      <td>101016.000000</td>\n",
       "      <td>101228.000000</td>\n",
       "      <td>101410</td>\n",
       "      <td>101410.000000</td>\n",
       "      <td>101103.000000</td>\n",
       "      <td>101092.000000</td>\n",
       "      <td>100990.000000</td>\n",
       "    </tr>\n",
       "    <tr>\n",
       "      <th>mean</th>\n",
       "      <td>2.920959e+07</td>\n",
       "      <td>4.926155e+10</td>\n",
       "      <td>40.728082</td>\n",
       "      <td>-73.949663</td>\n",
       "      <td>2012.486908</td>\n",
       "      <td>625.381008</td>\n",
       "      <td>125.043998</td>\n",
       "      <td>8.113744</td>\n",
       "      <td>27.511854</td>\n",
       "      <td>2018-05-15 21:26:08.721033728</td>\n",
       "      <td>1.163207</td>\n",
       "      <td>3.278558</td>\n",
       "      <td>7.948463</td>\n",
       "      <td>141.164660</td>\n",
       "    </tr>\n",
       "    <tr>\n",
       "      <th>min</th>\n",
       "      <td>1.001254e+06</td>\n",
       "      <td>1.236005e+08</td>\n",
       "      <td>40.499790</td>\n",
       "      <td>-74.249840</td>\n",
       "      <td>2003.000000</td>\n",
       "      <td>50.000000</td>\n",
       "      <td>10.000000</td>\n",
       "      <td>-1223.000000</td>\n",
       "      <td>0.000000</td>\n",
       "      <td>2012-07-11 00:00:00</td>\n",
       "      <td>0.000000</td>\n",
       "      <td>1.000000</td>\n",
       "      <td>1.000000</td>\n",
       "      <td>-10.000000</td>\n",
       "    </tr>\n",
       "    <tr>\n",
       "      <th>25%</th>\n",
       "      <td>1.507574e+07</td>\n",
       "      <td>2.459183e+10</td>\n",
       "      <td>40.688730</td>\n",
       "      <td>-73.982570</td>\n",
       "      <td>2007.000000</td>\n",
       "      <td>340.000000</td>\n",
       "      <td>68.000000</td>\n",
       "      <td>2.000000</td>\n",
       "      <td>1.000000</td>\n",
       "      <td>2017-07-30 00:00:00</td>\n",
       "      <td>0.090000</td>\n",
       "      <td>2.000000</td>\n",
       "      <td>1.000000</td>\n",
       "      <td>3.000000</td>\n",
       "    </tr>\n",
       "    <tr>\n",
       "      <th>50%</th>\n",
       "      <td>2.922911e+07</td>\n",
       "      <td>4.912069e+10</td>\n",
       "      <td>40.722300</td>\n",
       "      <td>-73.954440</td>\n",
       "      <td>2012.000000</td>\n",
       "      <td>625.000000</td>\n",
       "      <td>125.000000</td>\n",
       "      <td>3.000000</td>\n",
       "      <td>7.000000</td>\n",
       "      <td>2019-05-23 00:00:00</td>\n",
       "      <td>0.480000</td>\n",
       "      <td>3.000000</td>\n",
       "      <td>1.000000</td>\n",
       "      <td>96.000000</td>\n",
       "    </tr>\n",
       "    <tr>\n",
       "      <th>75%</th>\n",
       "      <td>4.328308e+07</td>\n",
       "      <td>7.399747e+10</td>\n",
       "      <td>40.762750</td>\n",
       "      <td>-73.932340</td>\n",
       "      <td>2017.000000</td>\n",
       "      <td>913.000000</td>\n",
       "      <td>183.000000</td>\n",
       "      <td>5.000000</td>\n",
       "      <td>31.000000</td>\n",
       "      <td>2019-07-01 00:00:00</td>\n",
       "      <td>1.710000</td>\n",
       "      <td>4.000000</td>\n",
       "      <td>2.000000</td>\n",
       "      <td>269.000000</td>\n",
       "    </tr>\n",
       "    <tr>\n",
       "      <th>max</th>\n",
       "      <td>5.736742e+07</td>\n",
       "      <td>9.876313e+10</td>\n",
       "      <td>40.916970</td>\n",
       "      <td>-73.705220</td>\n",
       "      <td>2022.000000</td>\n",
       "      <td>1200.000000</td>\n",
       "      <td>240.000000</td>\n",
       "      <td>5645.000000</td>\n",
       "      <td>1024.000000</td>\n",
       "      <td>2058-06-16 00:00:00</td>\n",
       "      <td>90.000000</td>\n",
       "      <td>5.000000</td>\n",
       "      <td>332.000000</td>\n",
       "      <td>3677.000000</td>\n",
       "    </tr>\n",
       "    <tr>\n",
       "      <th>std</th>\n",
       "      <td>1.626820e+07</td>\n",
       "      <td>2.853703e+10</td>\n",
       "      <td>0.055850</td>\n",
       "      <td>0.049474</td>\n",
       "      <td>5.765130</td>\n",
       "      <td>331.609111</td>\n",
       "      <td>66.313374</td>\n",
       "      <td>30.378014</td>\n",
       "      <td>49.549258</td>\n",
       "      <td>NaN</td>\n",
       "      <td>1.683708</td>\n",
       "      <td>1.285369</td>\n",
       "      <td>32.328974</td>\n",
       "      <td>135.419199</td>\n",
       "    </tr>\n",
       "  </tbody>\n",
       "</table>\n",
       "</div>"
      ],
      "text/plain": [
       "                 id       host id            lat           long  \\\n",
       "count  1.014100e+05  1.014100e+05  101402.000000  101402.000000   \n",
       "mean   2.920959e+07  4.926155e+10      40.728082     -73.949663   \n",
       "min    1.001254e+06  1.236005e+08      40.499790     -74.249840   \n",
       "25%    1.507574e+07  2.459183e+10      40.688730     -73.982570   \n",
       "50%    2.922911e+07  4.912069e+10      40.722300     -73.954440   \n",
       "75%    4.328308e+07  7.399747e+10      40.762750     -73.932340   \n",
       "max    5.736742e+07  9.876313e+10      40.916970     -73.705220   \n",
       "std    1.626820e+07  2.853703e+10       0.055850       0.049474   \n",
       "\n",
       "       Construction year          price    service fee  minimum nights  \\\n",
       "count      101210.000000  101171.000000  101142.000000   101016.000000   \n",
       "mean         2012.486908     625.381008     125.043998        8.113744   \n",
       "min          2003.000000      50.000000      10.000000    -1223.000000   \n",
       "25%          2007.000000     340.000000      68.000000        2.000000   \n",
       "50%          2012.000000     625.000000     125.000000        3.000000   \n",
       "75%          2017.000000     913.000000     183.000000        5.000000   \n",
       "max          2022.000000    1200.000000     240.000000     5645.000000   \n",
       "std             5.765130     331.609111      66.313374       30.378014   \n",
       "\n",
       "       number of reviews                    last review  reviews per month  \\\n",
       "count      101228.000000                         101410      101410.000000   \n",
       "mean           27.511854  2018-05-15 21:26:08.721033728           1.163207   \n",
       "min             0.000000            2012-07-11 00:00:00           0.000000   \n",
       "25%             1.000000            2017-07-30 00:00:00           0.090000   \n",
       "50%             7.000000            2019-05-23 00:00:00           0.480000   \n",
       "75%            31.000000            2019-07-01 00:00:00           1.710000   \n",
       "max          1024.000000            2058-06-16 00:00:00          90.000000   \n",
       "std            49.549258                            NaN           1.683708   \n",
       "\n",
       "       review rate number  calculated host listings count  availability 365  \n",
       "count       101103.000000                   101092.000000     100990.000000  \n",
       "mean             3.278558                        7.948463        141.164660  \n",
       "min              1.000000                        1.000000        -10.000000  \n",
       "25%              2.000000                        1.000000          3.000000  \n",
       "50%              3.000000                        1.000000         96.000000  \n",
       "75%              4.000000                        2.000000        269.000000  \n",
       "max              5.000000                      332.000000       3677.000000  \n",
       "std              1.285369                       32.328974        135.419199  "
      ]
     },
     "execution_count": 17,
     "metadata": {},
     "output_type": "execute_result"
    }
   ],
   "source": [
    "# Generate descriptive statistics for the DataFrame\n",
    "# This includes count, mean, std, min, 25%, 50%, 75%, max for numeric columns\n",
    "df.describe()"
   ]
  },
  {
   "cell_type": "markdown",
   "id": "9603bcdd-3ad6-4b10-82a4-a7684397255e",
   "metadata": {},
   "source": [
    "# Visualization"
   ]
  },
  {
   "cell_type": "markdown",
   "id": "70832729-155b-4d9a-8d8a-a5ad5b0744df",
   "metadata": {},
   "source": [
    "## 1.How are the listing prices distributed?"
   ]
  },
  {
   "cell_type": "code",
   "execution_count": 18,
   "id": "45f364ce-c834-4593-b370-d7a3b5b1714f",
   "metadata": {},
   "outputs": [
    {
     "data": {
      "image/png": "[encoded data removed]",
      "text/plain": [
       "<Figure size 1000x600 with 1 Axes>"
      ]
     },
     "metadata": {},
     "output_type": "display_data"
    }
   ],
   "source": [
    "# Create a figure with specified size (10x6 inches)\n",
    "plt.figure(figsize=(10,6))\n",
    "# Create a histogram of the 'price' column with 50 bins, kernel density estimate and green color\n",
    "sns.histplot(df['price'], bins=50, kde=True, color='green')\n",
    "# Add a title to the plot\n",
    "plt.title(\"Distribution of listing price\")\n",
    "# Label the x-axis\n",
    "plt.xlabel(\"Price $\")\n",
    "# Label the y-axis\n",
    "plt.ylabel(\"Frequency\")\n",
    "# Display the plot\n",
    "plt.show()"
   ]
  },
  {
   "cell_type": "markdown",
   "id": "4d11e5bc-1727-48e6-8266-ff7418fa46a0",
   "metadata": {},
   "source": [
    "## Conclusion\n",
    "The histogram represents that the distribution of listing prices appears to be approximately uniform across the range from 0 to 1200 dollars . It shows that:\n",
    "1. Listings are fairly evenly distributed across price ranges.\n",
    "2. There is no strong skewness or concentration of listings at any specific price range.  \n",
    "3. The data does not show a typical bell-curve (normal distribution) or any outliers that dominate."
   ]
  },
  {
   "cell_type": "markdown",
   "id": "2455682e-c257-421c-9efb-fc4f68033018",
   "metadata": {},
   "source": [
    "## 2.How are the various room types distributed?"
   ]
  },
  {
   "cell_type": "code",
   "execution_count": 19,
   "id": "b9eea4ec-8a23-4f7d-9085-2e0a2db5d200",
   "metadata": {},
   "outputs": [
    {
     "data": {
      "text/plain": [
       "0            Private room\n",
       "1         Entire home/apt\n",
       "2            Private room\n",
       "4         Entire home/apt\n",
       "5         Entire home/apt\n",
       "               ...       \n",
       "102053       Private room\n",
       "102054       Private room\n",
       "102055    Entire home/apt\n",
       "102056       Private room\n",
       "102057    Entire home/apt\n",
       "Name: room type, Length: 101410, dtype: object"
      ]
     },
     "execution_count": 19,
     "metadata": {},
     "output_type": "execute_result"
    }
   ],
   "source": [
    "# Access the 'room type' column from the DataFrame df\n",
    "df['room type']"
   ]
  },
  {
   "cell_type": "code",
   "execution_count": 20,
   "id": "069d7359-378a-486a-b34e-96b567a4908f",
   "metadata": {},
   "outputs": [
    {
     "data": {
      "image/png": "[encoded data removed]",
      "text/plain": [
       "<Figure size 800x500 with 1 Axes>"
      ]
     },
     "metadata": {},
     "output_type": "display_data"
    }
   ],
   "source": [
    "# Create a figure with specified size (8 inches width, 5 inches height)\n",
    "plt.figure(figsize = (8,5))\n",
    "# Create a count plot showing the distribution of 'room type' variable in the dataframe\n",
    "sns.countplot(x='room type', data=df, color='violet')\n",
    "# Add a title to the plot\n",
    "plt.title('room type distribution')\n",
    "# Label the x-axis\n",
    "plt.xlabel('room type')\n",
    "# Label the y-axis\n",
    "plt.ylabel('count')\n",
    "# Display the plot\n",
    "plt.show()"
   ]
  },
  {
   "cell_type": "markdown",
   "id": "f26adbb0-86a0-4746-b62d-9300207c2f4e",
   "metadata": {},
   "source": [
    "## Conclusion\n",
    "\n",
    "This bar chart displays the distribution of room types in the dataset. It indicates that:\n",
    "1. Entire home/apartment is the most common listing type, with the highest count of over 50000 listings.\n",
    "2. Private rooms are the second most common, with around 45000 listings.\n",
    "3. Shared rooms have a significantly lower count, showing limited popularity.\n",
    "4. Hotel rooms are almost negligible in the dataset, indicating very few such listings.\n",
    "5. The market is dominated by individual or home-based rentals rather than commercial hotel-style options.\n",
    "6. This distribution suggests that the platform is primarily used for short-term rentals of private or entire residential spaces."
   ]
  },
  {
   "cell_type": "markdown",
   "id": "52f95af8-99b1-46b5-9458-0aa42eb188ea",
   "metadata": {},
   "source": [
    "## 3.What is the distribution of listings across different neighbourhoods?"
   ]
  },
  {
   "cell_type": "code",
   "execution_count": 21,
   "id": "e77f73ba-eb98-49a9-a4df-dbbb9f911bc7",
   "metadata": {},
   "outputs": [
    {
     "name": "stdout",
     "output_type": "stream",
     "text": [
      "Available columns: ['id', 'NAME', 'host id', 'host_identity_verified', 'host name', 'neighbourhood group', 'neighbourhood', 'lat', 'long', 'country', 'country code', 'instant_bookable', 'cancellation_policy', 'room type', 'Construction year', 'price', 'service fee', 'minimum nights', 'number of reviews', 'last review', 'reviews per month', 'review rate number', 'calculated host listings count', 'availability 365', 'house_rules', 'license']\n",
      "Possible neighbourhood columns: ['neighbourhood group', 'neighbourhood']\n"
     ]
    },
    {
     "data": {
      "image/png": "[encoded data removed]",
      "text/plain": [
       "<Figure size 1000x600 with 1 Axes>"
      ]
     },
     "metadata": {},
     "output_type": "display_data"
    }
   ],
   "source": [
    "import pandas as pd\n",
    "import seaborn as sns\n",
    "import matplotlib.pyplot as plt\n",
    "\n",
    "# Load data with low_memory=False to handle mixed data types\n",
    "# The dtype parameter ensures 'house_rules' is treated as string to avoid mixed type warnings\n",
    "df = pd.read_csv('airbnb_Open_Data.csv', dtype={'house_rules': str}, low_memory=False)\n",
    "\n",
    "# Display all column names to identify the correct neighbourhood column\n",
    "print(\"Available columns:\", df.columns.tolist())\n",
    "\n",
    "# Search for columns that might contain neighbourhood information\n",
    "# This helps identify potential column name variations (e.g., neighbourhood vs neighborhood)\n",
    "neighbourhood_columns = [col for col in df.columns if 'neigh' in col.lower()]\n",
    "print(\"Possible neighbourhood columns:\", neighbourhood_columns)\n",
    "\n",
    "# Define the correct column name for neighbourhood data\n",
    "# This will be updated after examining the actual column names in the dataset\n",
    "correct_column = 'neighbourhood group' \n",
    "\n",
    "# Clean and standardize neighbourhood names:\n",
    "# 1. Strip whitespace and convert to lowercase for consistent processing\n",
    "# 2. Fix common spelling variations and errors using a mapping dictionary\n",
    "df[correct_column] = df[correct_column].str.strip().str.lower()\n",
    "fix_dict = {\n",
    "    'manhatan': 'manhattan',\n",
    "    'brookln': 'brooklyn',\n",
    "    'staten island': 'staten island',\n",
    "    'queens': 'queens',\n",
    "    'bronx': 'bronx',\n",
    "    'manhattan': 'manhattan',\n",
    "    'brooklyn': 'brooklyn'\n",
    "}\n",
    "df[correct_column] = df[correct_column].replace(fix_dict).str.title()\n",
    "\n",
    "# Create a bar chart showing the distribution of listings across neighbourhood groups\n",
    "plt.figure(figsize=(10, 6))\n",
    "# Use countplot with sorted values (most frequent first) for better visualization\n",
    "sns.countplot(data=df, y=correct_column, order=df[correct_column].value_counts().index, color='red')\n",
    "plt.title('Number of Listings by Neighbourhood Group')\n",
    "plt.xlabel('Count')\n",
    "plt.ylabel('Neighbourhood Group')\n",
    "# Adjust layout to prevent label cutoff\n",
    "plt.tight_layout()  "
   ]
  },
  {
   "cell_type": "markdown",
   "id": "cbedfa0c-7208-47cf-9ae5-f360ca7b3965",
   "metadata": {},
   "source": [
    "## Data Cleaning Summary\n",
    "\n",
    "1. The above code standardizes the entries in the *neighbourhood group* column by converting all text to lowercase, removing extra spaces and applying title case formatting to ensure consistency across the dataset.\n",
    "2. It corrects common spelling errors and inconsistent labels such as \"manhatan\" to \"Manhattan\" and \"brookln\" to \"Brooklyn\" using a predefined replacement dictionary.\n",
    "3. These cleaning steps significantly improve the quality of the data, allowing for accurate grouping and analysis without duplication or misclassification due to inconsistent naming."
   ]
  },
  {
   "cell_type": "markdown",
   "id": "d52c860a-32f9-4e9a-b599-e1d45442c486",
   "metadata": {},
   "source": [
    "## Conclusion of Countplot\n",
    "After cleaning the dataset and correcting common spelling errors and inconsistencies in the `neighbourhood group` column, the bar chart shows the actual distribution of Airbnb listings across the five recognized neighbourhood groups in New York City.\n",
    "\n",
    "**Key Observations**:\n",
    "1. Manhattan has the highest number of listings, indicating it is the most popular area for Airbnb hosts and travellers.\n",
    "2. Brooklyn follows closely behind Manhattan in terms of listing volume.\n",
    "3. Queens has a moderate number of listings, showing a decent level of Airbnb activity.\n",
    "4. Bronx and Staten Island have the fewest listings, indicating lower Airbnb presence or popularity.\n",
    "5. All rows with missing (`NaN`) or invalid neighborhood names were excluded, ensuring the chart reflects only clean, valid data."
   ]
  },
  {
   "cell_type": "markdown",
   "id": "9a5fc88c-5793-4bf0-9d9b-bdd32c927470",
   "metadata": {},
   "source": [
    "## 4.How has the number of reviews evolved over time?"
   ]
  },
  {
   "cell_type": "code",
   "execution_count": 22,
   "id": "68b201a5-c4a2-4187-8d74-2354027c7106",
   "metadata": {},
   "outputs": [
    {
     "data": {
      "image/png": "[encoded data removed]",
      "text/plain": [
       "<Figure size 1200x600 with 1 Axes>"
      ]
     },
     "metadata": {},
     "output_type": "display_data"
    }
   ],
   "source": [
    "# Convert 'last review' column to datetime format for time-based operations\n",
    "df['last review'] = pd.to_datetime(df['last review'])\n",
    "\n",
    "# Group reviews by month and count them to see trends over time\n",
    "reviews_over_time = df.groupby(df['last review'].dt.to_period('M')).size()\n",
    "\n",
    "# Create a figure with specified dimensions (width=12, height=6 inches)\n",
    "plt.figure(figsize=(12,6))\n",
    "\n",
    "# Plot the time series data as a line graph with green color\n",
    "reviews_over_time.plot(kind='line' ,color='green')\n",
    "\n",
    "# Add a title to the plot\n",
    "plt.title('Number of Reviews Over Time')\n",
    "\n",
    "# Label the x-axis\n",
    "plt.xlabel('Date')\n",
    "\n",
    "# Label the y-axis\n",
    "plt.ylabel('Number of Reviews')\n",
    "\n",
    "# Display the plot\n",
    "plt.show()"
   ]
  },
  {
   "cell_type": "markdown",
   "id": "12ffecbc-f9e7-442d-a24d-57c00306bbef",
   "metadata": {},
   "source": [
    "## Conclusion\n",
    "\n",
    "1. Sharp Peaks in Review Counts:\n",
    " There are extremely high spikes in the number of reviews around 2018-2020, with one spike exceeding 20000 reviews.These \n",
    "are likely outliers.\n",
    "3. Sudden Drops:\n",
    " After these peaks, the number of reviews drops sharply, indicating that the spikes were temporary events rather than sustained growth.\n",
    "4. Flat line after 2021:\n",
    " Post-2021, the number of reviews remains consistently low and almost flat.This suggests either no new data was collected or there was a \n",
    "drop in user activity.\n",
    "5. Possible Data Anomalies:\n",
    " The presence of review data extending up to 2060 is unrealistic and suggests there may be issues with date parsing or incorrect date entries\n",
    "in the dataset."
   ]
  },
  {
   "cell_type": "code",
   "execution_count": 23,
   "id": "8cf4169c-cb67-49c5-b0a0-831f9cc74b24",
   "metadata": {},
   "outputs": [],
   "source": [
    "# Import pandas library for data manipulation\n",
    "import pandas as pd \n",
    "# Read the Airbnb dataset into a DataFrame, with low_memory=False to avoid mixed data type warnings\n",
    "df = pd.read_csv(\"airbnb_Open_Data.csv\", low_memory=False)  # Fixed: moved parameter inside parentheses\n",
    "# Convert 'last review' column to datetime format, with errors='coerce' to handle invalid dates\n",
    "df['last review'] = pd.to_datetime(df['last review'], errors='coerce')\n",
    "# Remove rows with missing values in the 'last review' column\n",
    "df = df.dropna(subset=['last review'])\n",
    "# Filter the DataFrame to include only rows where 'last review' date is not in the future\n",
    "df = df[df['last review'] <= pd.Timestamp.today()]"
   ]
  },
  {
   "cell_type": "markdown",
   "id": "d3b04b26-c1c1-4f4e-828a-0ac4627ed8ea",
   "metadata": {},
   "source": [
    "## Data Cleaning Summary\n",
    "This code cleans the `last review` column in the Airbnb dataset to prepare it for accurate time-based analysis. The purpose of this cleaning process is to ensure the `last review` column is accurate and usable for time-based analysis. This is done by converting the column to a valid datetime format while handling errors gracefully, removing rows with missing (`NaT`) review dates, and filtering out any reviews dated in the future. These steps help maintain the integrity of the timeline data."
   ]
  },
  {
   "cell_type": "code",
   "execution_count": 24,
   "id": "6d901c16-d600-4707-a5da-cfb3cb84a7bb",
   "metadata": {},
   "outputs": [
    {
     "data": {
      "image/png": "[encoded data removed]",
      "text/plain": [
       "<Figure size 1200x600 with 1 Axes>"
      ]
     },
     "metadata": {},
     "output_type": "display_data"
    }
   ],
   "source": [
    "# Import necessary libraries\n",
    "import pandas as pd\n",
    "import matplotlib.pyplot as plt\n",
    "\n",
    "# Group reviews by month and count them\n",
    "# Convert the 'last review' column to monthly periods and count occurrences\n",
    "reviews_over_time = df.groupby(df['last review'].dt.to_period('M')).size()\n",
    "\n",
    "# Create a figure with specified size\n",
    "plt.figure(figsize=(12, 6))\n",
    "\n",
    "# Plot the time series data as a line chart with red color\n",
    "reviews_over_time.plot(kind='line', color='red')\n",
    "\n",
    "# Add title and axis labels to the plot\n",
    "plt.title('Number of Reviews Over Time')\n",
    "plt.xlabel('Date')\n",
    "plt.ylabel('Number of Reviews')\n",
    "\n",
    "# Display the plot\n",
    "plt.show()"
   ]
  },
  {
   "cell_type": "markdown",
   "id": "f2ad1743-1141-499f-a586-6653ce173ef0",
   "metadata": {},
   "source": [
    "## Conclusion\n",
    "\n",
    "####  **Before Cleaning (Old Chart):**\n",
    "\n",
    "1. The chart showed dates extending unrealistically up to 2060, indicating parsing errors or corrupted entries.\n",
    "2. These invalid dates distorted the x-axis, compressing the real data and making the timeline hard to interpret.\n",
    "3. A flatline after 2023 gave a misleading appearance of ongoing activity, even though it was due to incorrect future dates.\n",
    "4. Overall, the data was not suitable for time-series analysis due to anomalies.\n",
    "\n",
    "####  **After Cleaning (New Chart):**\n",
    "\n",
    "1. We fixed date issues using:\n",
    "   * `errors='coerce'` to convert invalid dates to `NaT`,\n",
    "   * `dropna()` to remove missing values,\n",
    "   * and filtering out future dates using `df['last review'] <= pd.Timestamp.today()`.\n",
    "2. The new chart now includes only valid, past review data, up to the current date.\n",
    "3. Real trends became visible:\n",
    "   * A sharp spike in reviews around 2019.\n",
    "   * A notable drop in 2020, likely reflecting the impact of the COVID-19 pandemic.\n",
    "   * A resurgence in activity in 2021–2022.\n",
    "4. The timeline is now accurate, clean, and interpretable, showing real-world trends clearly."
   ]
  },
  {
   "cell_type": "markdown",
   "id": "7ce6d921-ed4f-4f49-8244-5fd69f627f3d",
   "metadata": {},
   "source": [
    "## Conclusion\n",
    "\n",
    "1. Listings with low to moderate prices (between 10 and 300 USD) receive the highest number of reviews.\n",
    "2. Listings priced above 500 USD tend to receive fewer reviews, indicating lower booking frequency or a niche market.\n",
    "3. The majority of reviews are concentrated in the price range of 30–200 USD, suggesting this is the most active and competitive price segment.\n",
    "4. A large number of listings with very few reviews (1–10) exist across almost all price points, which could indicate new listings or low popularity.\n",
    "5. There is no strong positive correlation between price and number of reviews—cheaper listings often receive more reviews, possibly due to higher booking volume."
   ]
  },
  {
   "cell_type": "markdown",
   "id": "455a6dae-c71b-4127-8f55-abac595a8803",
   "metadata": {},
   "source": [
    "## 5.Which neighbourhoods have the most listings?"
   ]
  },
  {
   "cell_type": "code",
   "execution_count": 25,
   "id": "c2a0eea7-5a6a-47e8-b9c8-355971a56338",
   "metadata": {},
   "outputs": [
    {
     "data": {
      "text/plain": [
       "<Axes: title={'center': 'Top 10 Neighbourhoods by Listings'}, ylabel='neighbourhood'>"
      ]
     },
     "execution_count": 25,
     "metadata": {},
     "output_type": "execute_result"
    },
    {
     "data": {
      "image/png": "[encoded data removed]",
      "text/plain": [
       "<Figure size 640x480 with 1 Axes>"
      ]
     },
     "metadata": {},
     "output_type": "display_data"
    }
   ],
   "source": [
    "# Create a horizontal bar chart showing the top 10 neighborhoods by number of listings\n",
    "# 1. Count occurrences of each neighborhood using value_counts()\n",
    "# 2. Select only the top 10 neighborhoods with head(10)\n",
    "# 3. Plot as a horizontal bar chart with appropriate title\n",
    "df['neighbourhood'].value_counts().head(10).plot(kind='barh', title='Top 10 Neighbourhoods by Listings')"
   ]
  },
  {
   "cell_type": "markdown",
   "id": "8d2d460f-cc64-47d5-b277-1e2500bbfa1d",
   "metadata": {},
   "source": [
    "## Conclusion\n",
    "\n",
    "1. Bedford-Stuyvesant has the highest number of listings, followed closely by Williamsburg, both exceeding 6,000 listings.\n",
    "2. Harlem and Bushwick also show strong listing volumes, each around 4,000–5,000 listings, indicating high activity in these areas.\n",
    "3. Hell's Kitchen, Upper West Side and Upper East Side fall in the mid-range, with around 3,000–4,000 listings.\n",
    "4. East Village, Crown Heights and Midtown have slightly lower but still significant listing counts (approximately 2,500–3,000).\n",
    "5. Overall, most high-listing neighborhoods are located in Brooklyn and Manhattan, suggesting these areas are Airbnb hotspots and likely to attract high guest demand.\n"
   ]
  },
  {
   "cell_type": "markdown",
   "id": "7d07e954-224a-44c3-ab4a-07d809af9efa",
   "metadata": {},
   "source": [
    "## 6.Monthly trend of reviews (activity over time)"
   ]
  },
  {
   "cell_type": "code",
   "execution_count": 26,
   "id": "eb161a82-8ba2-4e46-acb3-e1c5f5f3f2e3",
   "metadata": {},
   "outputs": [
    {
     "data": {
      "text/plain": [
       "<Axes: title={'center': 'Monthly Review Activity'}, xlabel='review_month'>"
      ]
     },
     "execution_count": 26,
     "metadata": {},
     "output_type": "execute_result"
    },
    {
     "data": {
      "image/png": "[encoded data removed]",
      "text/plain": [
       "<Figure size 640x480 with 1 Axes>"
      ]
     },
     "metadata": {},
     "output_type": "display_data"
    }
   ],
   "source": [
    "# Convert 'last review' column to datetime format, handling errors by setting them as NaT\n",
    "# This ensures dates are properly formatted for time-based analysis\n",
    "df['last review'] = pd.to_datetime(df['last review'], errors='coerce')\n",
    "\n",
    "# Extract the month component from the datetime values in 'last review' column\n",
    "# This allows us to analyze review patterns by month\n",
    "df['review_month'] = df['last review'].dt.month\n",
    "\n",
    "# Create a bar chart showing the distribution of reviews by month\n",
    "# First count occurrences of each month, sort them chronologically, then plot\n",
    "# This visualization helps identify seasonal patterns in review activity\n",
    "df['review_month'].value_counts().sort_index().plot(kind='bar', title='Monthly Review Activity')"
   ]
  },
  {
   "cell_type": "markdown",
   "id": "d9e1fffa-b8d8-42bb-9623-426b3452010c",
   "metadata": {},
   "source": [
    "## Conclusion\n",
    "\n",
    "1. The highest number of reviews occurs in June, with a significant spike in activity, indicating that June is the most popular month for guests to leave reviews—possibly due to increased travel during summer.\n",
    "2. July and January also see relatively high review activity, suggesting consistent engagement during mid-summer and the New Year season.\n",
    "3. The lowest review activity is observed in March, April, September, October and November, indicating these months are less active, likely off-peak travel times.\n",
    "4. The trend shows a seasonal pattern, with summer months (June–July) being the most active, aligning with typical vacation periods."
   ]
  },
  {
   "cell_type": "markdown",
   "id": "ff1dc65e-5cb6-459a-be72-97ac2b32a69f",
   "metadata": {},
   "source": [
    "## 7.Impact of cancellation policy on pricing"
   ]
  },
  {
   "cell_type": "code",
   "execution_count": 27,
   "id": "ba75980d-81d2-44be-b6ae-d68c1e204ef8",
   "metadata": {},
   "outputs": [
    {
     "data": {
      "image/png": "[encoded data removed]",
      "text/plain": [
       "<Figure size 640x480 with 1 Axes>"
      ]
     },
     "metadata": {},
     "output_type": "display_data"
    }
   ],
   "source": [
    "import matplotlib.pyplot as plt\n",
    "import seaborn as sns\n",
    "\n",
    "# Create a boxplot showing price distribution across different cancellation policies\n",
    "sns.boxplot(data=df, x='cancellation_policy', y='price')\n",
    "# Set y-axis to logarithmic scale to better visualize price variations\n",
    "plt.yscale('log')\n",
    "# Add title to the plot\n",
    "plt.title('Price by Cancellation Policy')\n",
    "# Add label to y-axis indicating log scale\n",
    "plt.ylabel('Price (log scale)')  # <-- added this line to show log scale on y-axis label\n",
    "# Display the plot\n",
    "plt.show()"
   ]
  },
  {
   "cell_type": "markdown",
   "id": "6cdc20e1-4615-4297-9bd9-1e2a967629a2",
   "metadata": {},
   "source": [
    "## Conclusion\n",
    "1. The price distributions for all three cancellation policies-strict, moderate and flexible—appear to be very similar, with comparable medians and ranges.\n",
    "2. The use of a logarithmic scale on the y-axis helps reveal that price variability exists in all categories, but no specific policy shows significantly higher or lower prices.\n",
    "3. This indicates that cancellation policy does not have a strong influence on listing price.\n",
    "4. The spread of prices (interquartile range and whiskers) suggests that regardless of policy, prices can range widely, likely influenced more by other factors such as location, property type or amenities.\n",
    "Overall, hosts may choose their cancellation policy based on preference or risk tolerance without expecting it to drastically impact their pricing.\n"
   ]
  },
  {
   "cell_type": "code",
   "execution_count": null,
   "id": "fead2f1f-807e-4086-853a-f0d8cb70eb5c",
   "metadata": {},
   "outputs": [],
   "source": []
  }
 ],
 "metadata": {
  "kernelspec": {
   "display_name": "Python 3 (ipykernel)",
   "language": "python",
   "name": "python3"
  },
  "language_info": {
   "codemirror_mode": {
    "name": "ipython",
    "version": 3
   },
   "file_extension": ".py",
   "mimetype": "text/x-python",
   "name": "python",
   "nbconvert_exporter": "python",
   "pygments_lexer": "ipython3",
   "version": "3.12.7"
  }
 },
 "nbformat": 4,
 "nbformat_minor": 5
}
